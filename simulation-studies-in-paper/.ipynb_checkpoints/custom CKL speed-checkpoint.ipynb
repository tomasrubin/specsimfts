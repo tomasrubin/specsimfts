{
 "cells": [
  {
   "cell_type": "code",
   "execution_count": null,
   "metadata": {},
   "outputs": [],
   "source": [
    "import matplotlib.pyplot as plt\n",
    "import numpy as np"
   ]
  },
  {
   "cell_type": "markdown",
   "metadata": {},
   "source": [
    "vary t_max and n_grid\n",
    "======"
   ]
  },
  {
   "cell_type": "code",
   "execution_count": null,
   "metadata": {},
   "outputs": [],
   "source": [
    "f, axarr = plt.subplots(1,2, figsize=(10,4))\n",
    "f.tight_layout(pad=3.0)\n",
    "\n",
    "t_max_all = [400,800,1600,3200,6400]\n",
    "timing_CKL = [ 0.46390200, 0.94604897, 1.45571494, 2.77226186, 4.86088514]\n",
    "timing_spec= [ 1.3916311,  2.8271530,  5.6957319, 11.2467301, 23.0726669]\n",
    "\n",
    "axarr[0].plot(t_max_all,timing_CKL, \"k-o\")\n",
    "axarr[0].plot(t_max_all,timing_spec, \"b-o\")\n",
    "axarr[0].set_ylabel(\"speed [seconds]\")\n",
    "axarr[0].set_xlabel(\"T (time horizon)\")\n",
    "axarr[0].legend([\"hKL (101)\",\"SVD (101)\"])\n",
    "axarr[0].set_title(\"Speed, dependence on T\")\n",
    "\n",
    "\n",
    "\n",
    "n_grid_all = np.array([101,201,501,701,1001])\n",
    "timing_n_grid_CKL = np.array([1.520830, 1.499668, 2.800912, 3.294114, 5.102750])\n",
    "timing_n_grid_SVD_5 = np.array([3.015648, 18.454405, 252.795554, 718.484546, 2007.701462])\n",
    "timing_n_grid_SVD_10 = np.array([2.968463,   18.015780,  240.953247 , 668.843944, 1966.126315])\n",
    "timing_n_grid_SVD_50 = np.array([ 2.984499 ,  18.638673,  249.158202 , 666.973732 ,1971.446194])\n",
    "timing_n_grid_SVD_100 = np.array([ 3.158827 ,  18.794282,  244.812834,  666.187550 ,1962.859576])\n",
    "timing_n_grid_SVD_full = np.array([4.732451 ,  20.793264 , 256.078038 , 731.050383 ,2184.420192])\n",
    "scale = 1/60\n",
    "line_specification = [\"k-o\",\"b-o\",\"r-o\",\"g-o\",\"m-o\",\"c-o\"]\n",
    "\n",
    "axarr[1].plot(n_grid_all, scale*timing_n_grid_CKL, line_specification[0])\n",
    "axarr[1].plot(n_grid_all, scale*timing_n_grid_SVD_5, line_specification[1])\n",
    "axarr[1].plot(n_grid_all, scale*timing_n_grid_SVD_10, line_specification[2])\n",
    "axarr[1].plot(n_grid_all, scale*timing_n_grid_SVD_50, line_specification[3])\n",
    "axarr[1].plot(n_grid_all, scale*timing_n_grid_SVD_100, line_specification[4])\n",
    "axarr[1].plot(n_grid_all, scale*timing_n_grid_SVD_full, line_specification[5])\n",
    "axarr[1].set_ylabel(\"speed [minutes]\")\n",
    "axarr[1].set_xlabel(\"M (grid resolution)\")\n",
    "axarr[1].legend([\"hKL (100)\",\"SVD (5)\",\"SVD (10)\",\"SVD (50)\",\"SVD (100)\",\"SVD (full)\"])\n",
    "axarr[1].set_title(\"Speed, dependence on M\")\n",
    "\n",
    "f.savefig('custom_CKL_speed.pdf', format='pdf', bbox_inches = 'tight', pad_inches = 0)"
   ]
  }
 ],
 "metadata": {
  "kernelspec": {
   "display_name": "Python 3",
   "language": "python",
   "name": "python3"
  },
  "language_info": {
   "codemirror_mode": {
    "name": "ipython",
    "version": 3
   },
   "file_extension": ".py",
   "mimetype": "text/x-python",
   "name": "python",
   "nbconvert_exporter": "python",
   "pygments_lexer": "ipython3",
   "version": "3.7.1"
  }
 },
 "nbformat": 4,
 "nbformat_minor": 2
}
