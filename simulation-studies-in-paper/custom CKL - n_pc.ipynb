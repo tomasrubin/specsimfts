{
 "cells": [
  {
   "cell_type": "code",
   "execution_count": null,
   "metadata": {},
   "outputs": [],
   "source": [
    "import pandas as pd \n",
    "import matplotlib.pyplot as plt\n",
    "import numpy as np\n",
    "\n",
    "folder = \"\"\n",
    "data_all = pd.read_csv(\"results/\"+folder+\"custom_CKL_1001.csv\")\n",
    "data = data_all.copy()\n",
    "data.sort_values(by=['lag'], inplace=True)\n",
    "data = data[data.n_pc.isin([1,2,3,5,10,20,50,100,200,1000])]"
   ]
  },
  {
   "cell_type": "code",
   "execution_count": null,
   "metadata": {},
   "outputs": [],
   "source": [
    "lags_all = data.lag.unique()\n",
    "lags_all.sort()\n",
    "n_pc_all = data.n_pc.unique()\n",
    "n_pc_all.sort()"
   ]
  },
  {
   "cell_type": "code",
   "execution_count": null,
   "metadata": {},
   "outputs": [],
   "source": [
    "f, axarr = plt.subplots(1,2, figsize=(10,4))\n",
    "f.tight_layout(pad=3.0)\n",
    "\n",
    "data.sort_values(by=['lag'], inplace=True)\n",
    "for n_pc in n_pc_all:\n",
    "    axarr[0].plot( range(len(lags_all)), data.rel_error_nuc[ data.n_pc == n_pc ] )\n",
    "axarr[0].legend(n_pc_all, ncol=2)\n",
    "axarr[0].set_xlabel(\"lag-h\")\n",
    "axarr[0].set_xticks(range(len(lags_all)))\n",
    "axarr[0].set_xticklabels(lags_all)\n",
    "axarr[0].set_ylabel(\"rel.error\")\n",
    "axarr[0].set_title(\"Simulation accuracy, Cramer-K-L\")\n",
    "\n",
    "# simulation speed\n",
    "data_all.sort_values(by=['n_pc'], inplace=True)\n",
    "axarr[1].plot( data_all.n_pc, data_all.time, \"k-o\" )\n",
    "axarr[1].set_xlabel(\"N (# harmonic p.c.)\")\n",
    "axarr[1].set_ylabel(\"Speed [seconds]\")\n",
    "axarr[1].set_title(\"Speed, Cramer-K-L, dependence on N\")\n",
    "\n",
    "f.savefig('custom_CKL_accuracy.pdf', format='pdf', bbox_inches = 'tight', pad_inches = 0)"
   ]
  }
 ],
 "metadata": {
  "kernelspec": {
   "display_name": "Python 3",
   "language": "python",
   "name": "python3"
  },
  "language_info": {
   "codemirror_mode": {
    "name": "ipython",
    "version": 3
   },
   "file_extension": ".py",
   "mimetype": "text/x-python",
   "name": "python",
   "nbconvert_exporter": "python",
   "pygments_lexer": "ipython3",
   "version": "3.7.1"
  }
 },
 "nbformat": 4,
 "nbformat_minor": 2
}
